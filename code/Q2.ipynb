{
 "cells": [
  {
   "cell_type": "markdown",
   "metadata": {},
   "source": [
    "## 虚拟"
   ]
  },
  {
   "cell_type": "code",
   "execution_count": 1,
   "metadata": {},
   "outputs": [],
   "source": [
    "import numpy as np\n",
    "import pandas as pd\n",
    "import matplotlib.pyplot as plt\n",
    "from read_table import *\n",
    "from ARMA import run_arma\n",
    "from minimize import *"
   ]
  },
  {
   "cell_type": "code",
   "execution_count": 2,
   "metadata": {},
   "outputs": [],
   "source": [
    "import datetime\n",
    "date = \"2020-01-02\"\n",
    "date = pd.to_datetime(datetime.datetime.strptime(date, \"%Y-%m-%d\"))"
   ]
  },
  {
   "cell_type": "code",
   "execution_count": 3,
   "metadata": {},
   "outputs": [],
   "source": [
    "table = read_table()"
   ]
  },
  {
   "cell_type": "code",
   "execution_count": 4,
   "metadata": {},
   "outputs": [],
   "source": [
    "for i in range(1, 11):\n",
    "    table[str(i)].index = pd.to_datetime(table[str(i)].date)"
   ]
  },
  {
   "cell_type": "code",
   "execution_count": 5,
   "metadata": {},
   "outputs": [],
   "source": [
    "tt = {}\n",
    "for i in range(1, 11):\n",
    "    tt[str(i)] = table[str(i)].loc[:date]"
   ]
  },
  {
   "cell_type": "code",
   "execution_count": 6,
   "metadata": {},
   "outputs": [
    {
     "data": {
      "text/html": [
       "<div>\n",
       "<style scoped>\n",
       "    .dataframe tbody tr th:only-of-type {\n",
       "        vertical-align: middle;\n",
       "    }\n",
       "\n",
       "    .dataframe tbody tr th {\n",
       "        vertical-align: top;\n",
       "    }\n",
       "\n",
       "    .dataframe thead th {\n",
       "        text-align: right;\n",
       "    }\n",
       "</style>\n",
       "<table border=\"1\" class=\"dataframe\">\n",
       "  <thead>\n",
       "    <tr style=\"text-align: right;\">\n",
       "      <th></th>\n",
       "      <th>date</th>\n",
       "      <th>open</th>\n",
       "      <th>high</th>\n",
       "      <th>low</th>\n",
       "      <th>close</th>\n",
       "      <th>volume</th>\n",
       "    </tr>\n",
       "    <tr>\n",
       "      <th>date</th>\n",
       "      <th></th>\n",
       "      <th></th>\n",
       "      <th></th>\n",
       "      <th></th>\n",
       "      <th></th>\n",
       "      <th></th>\n",
       "    </tr>\n",
       "  </thead>\n",
       "  <tbody>\n",
       "    <tr>\n",
       "      <td>2019-01-29</td>\n",
       "      <td>2019-01-29</td>\n",
       "      <td>10.960000</td>\n",
       "      <td>11.070000</td>\n",
       "      <td>10.770000</td>\n",
       "      <td>11.000000</td>\n",
       "      <td>8.266311e+07</td>\n",
       "    </tr>\n",
       "    <tr>\n",
       "      <td>2019-01-30</td>\n",
       "      <td>2019-01-30</td>\n",
       "      <td>10.950000</td>\n",
       "      <td>11.180000</td>\n",
       "      <td>10.860000</td>\n",
       "      <td>10.950000</td>\n",
       "      <td>7.120010e+07</td>\n",
       "    </tr>\n",
       "    <tr>\n",
       "      <td>2019-01-31</td>\n",
       "      <td>2019-01-31</td>\n",
       "      <td>10.980000</td>\n",
       "      <td>11.200000</td>\n",
       "      <td>10.940000</td>\n",
       "      <td>11.100000</td>\n",
       "      <td>8.316227e+07</td>\n",
       "    </tr>\n",
       "    <tr>\n",
       "      <td>2019-02-01</td>\n",
       "      <td>2019-02-01</td>\n",
       "      <td>11.200000</td>\n",
       "      <td>11.250000</td>\n",
       "      <td>10.960000</td>\n",
       "      <td>11.200000</td>\n",
       "      <td>1.014270e+08</td>\n",
       "    </tr>\n",
       "    <tr>\n",
       "      <td>2019-02-02</td>\n",
       "      <td>2019-02-02</td>\n",
       "      <td>13.260855</td>\n",
       "      <td>13.493773</td>\n",
       "      <td>13.062276</td>\n",
       "      <td>13.257337</td>\n",
       "      <td>9.943150e+07</td>\n",
       "    </tr>\n",
       "    <tr>\n",
       "      <td>...</td>\n",
       "      <td>...</td>\n",
       "      <td>...</td>\n",
       "      <td>...</td>\n",
       "      <td>...</td>\n",
       "      <td>...</td>\n",
       "      <td>...</td>\n",
       "    </tr>\n",
       "    <tr>\n",
       "      <td>2019-12-26</td>\n",
       "      <td>2019-12-26</td>\n",
       "      <td>16.340000</td>\n",
       "      <td>16.480000</td>\n",
       "      <td>16.320000</td>\n",
       "      <td>16.470000</td>\n",
       "      <td>3.720338e+07</td>\n",
       "    </tr>\n",
       "    <tr>\n",
       "      <td>2019-12-27</td>\n",
       "      <td>2019-12-27</td>\n",
       "      <td>16.530000</td>\n",
       "      <td>16.930000</td>\n",
       "      <td>16.430000</td>\n",
       "      <td>16.630000</td>\n",
       "      <td>1.042575e+08</td>\n",
       "    </tr>\n",
       "    <tr>\n",
       "      <td>2019-12-30</td>\n",
       "      <td>2019-12-30</td>\n",
       "      <td>16.460000</td>\n",
       "      <td>16.630000</td>\n",
       "      <td>16.100000</td>\n",
       "      <td>16.570000</td>\n",
       "      <td>9.769703e+07</td>\n",
       "    </tr>\n",
       "    <tr>\n",
       "      <td>2019-12-31</td>\n",
       "      <td>2019-12-31</td>\n",
       "      <td>16.570000</td>\n",
       "      <td>16.630000</td>\n",
       "      <td>16.310000</td>\n",
       "      <td>16.450000</td>\n",
       "      <td>7.044422e+07</td>\n",
       "    </tr>\n",
       "    <tr>\n",
       "      <td>2020-01-02</td>\n",
       "      <td>2020-01-02</td>\n",
       "      <td>16.650000</td>\n",
       "      <td>16.950000</td>\n",
       "      <td>16.550000</td>\n",
       "      <td>16.870000</td>\n",
       "      <td>1.530232e+08</td>\n",
       "    </tr>\n",
       "  </tbody>\n",
       "</table>\n",
       "<p>232 rows × 6 columns</p>\n",
       "</div>"
      ],
      "text/plain": [
       "                  date       open       high        low      close  \\\n",
       "date                                                                 \n",
       "2019-01-29  2019-01-29  10.960000  11.070000  10.770000  11.000000   \n",
       "2019-01-30  2019-01-30  10.950000  11.180000  10.860000  10.950000   \n",
       "2019-01-31  2019-01-31  10.980000  11.200000  10.940000  11.100000   \n",
       "2019-02-01  2019-02-01  11.200000  11.250000  10.960000  11.200000   \n",
       "2019-02-02  2019-02-02  13.260855  13.493773  13.062276  13.257337   \n",
       "...                ...        ...        ...        ...        ...   \n",
       "2019-12-26  2019-12-26  16.340000  16.480000  16.320000  16.470000   \n",
       "2019-12-27  2019-12-27  16.530000  16.930000  16.430000  16.630000   \n",
       "2019-12-30  2019-12-30  16.460000  16.630000  16.100000  16.570000   \n",
       "2019-12-31  2019-12-31  16.570000  16.630000  16.310000  16.450000   \n",
       "2020-01-02  2020-01-02  16.650000  16.950000  16.550000  16.870000   \n",
       "\n",
       "                  volume  \n",
       "date                      \n",
       "2019-01-29  8.266311e+07  \n",
       "2019-01-30  7.120010e+07  \n",
       "2019-01-31  8.316227e+07  \n",
       "2019-02-01  1.014270e+08  \n",
       "2019-02-02  9.943150e+07  \n",
       "...                  ...  \n",
       "2019-12-26  3.720338e+07  \n",
       "2019-12-27  1.042575e+08  \n",
       "2019-12-30  9.769703e+07  \n",
       "2019-12-31  7.044422e+07  \n",
       "2020-01-02  1.530232e+08  \n",
       "\n",
       "[232 rows x 6 columns]"
      ]
     },
     "execution_count": 6,
     "metadata": {},
     "output_type": "execute_result"
    }
   ],
   "source": [
    "tt[\"1\"]"
   ]
  },
  {
   "cell_type": "code",
   "execution_count": 20,
   "metadata": {},
   "outputs": [
    {
     "data": {
      "text/plain": [
       "[open    16.65\n",
       " Name: 2020-01-02 00:00:00, dtype: object, open    58.66\n",
       " Name: 2020-01-02 00:00:00, dtype: object, open    3.38\n",
       " Name: 2020-01-02 00:00:00, dtype: object, open    90\n",
       " Name: 2020-01-02 00:00:00, dtype: object, open    7.09\n",
       " Name: 2020-01-02 00:00:00, dtype: object, open    65.99\n",
       " Name: 2020-01-02 00:00:00, dtype: object, open    453\n",
       " Name: 2020-01-02 00:00:00, dtype: object, open    29.36\n",
       " Name: 2020-01-02 00:00:00, dtype: object, open    4.45\n",
       " Name: 2020-01-02 00:00:00, dtype: object, open    5.86\n",
       " Name: 2020-01-02 00:00:00, dtype: object]"
      ]
     },
     "execution_count": 20,
     "metadata": {},
     "output_type": "execute_result"
    }
   ],
   "source": [
    "S = []\n",
    "for i in range(1, 11):\n",
    "#     print(tt[str(i)].loc[date, [\"open\"]])\n",
    "    df = table[str(i)]\n",
    "    S.append(df.loc[date, [\"open\"]])\n",
    "S"
   ]
  },
  {
   "cell_type": "code",
   "execution_count": 8,
   "metadata": {},
   "outputs": [
    {
     "data": {
      "text/plain": [
       "array([0.00087081, 0.0020037 , 0.00200532, 0.00125042, 0.00053312,\n",
       "       0.00132645, 0.00165181])"
      ]
     },
     "execution_count": 8,
     "metadata": {},
     "output_type": "execute_result"
    }
   ],
   "source": [
    "np.random.uniform(0.0, 0.003, 7)"
   ]
  },
  {
   "cell_type": "code",
   "execution_count": 9,
   "metadata": {},
   "outputs": [],
   "source": [
    "# for i in range(1, 11):\n",
    "#     print(\"table {}\".format(i))\n",
    "#     print(table[str(i)].info())"
   ]
  },
  {
   "cell_type": "code",
   "execution_count": 10,
   "metadata": {},
   "outputs": [
    {
     "data": {
      "text/plain": [
       "date\n",
       "2019-01-08    24.63\n",
       "2019-01-09    24.70\n",
       "2019-01-10    24.16\n",
       "2019-01-11    24.43\n",
       "2019-01-14    24.30\n",
       "              ...  \n",
       "2020-03-20    33.63\n",
       "2020-03-23    33.80\n",
       "2020-03-24    34.93\n",
       "2020-03-25    35.42\n",
       "2020-03-26    35.98\n",
       "Name: low, Length: 302, dtype: float64"
      ]
     },
     "execution_count": 10,
     "metadata": {},
     "output_type": "execute_result"
    }
   ],
   "source": [
    "table[\"8\"].low.astype(np.float64)"
   ]
  },
  {
   "cell_type": "code",
   "execution_count": 11,
   "metadata": {},
   "outputs": [
    {
     "data": {
      "text/html": [
       "<div>\n",
       "<style scoped>\n",
       "    .dataframe tbody tr th:only-of-type {\n",
       "        vertical-align: middle;\n",
       "    }\n",
       "\n",
       "    .dataframe tbody tr th {\n",
       "        vertical-align: top;\n",
       "    }\n",
       "\n",
       "    .dataframe thead th {\n",
       "        text-align: right;\n",
       "    }\n",
       "</style>\n",
       "<table border=\"1\" class=\"dataframe\">\n",
       "  <thead>\n",
       "    <tr style=\"text-align: right;\">\n",
       "      <th></th>\n",
       "      <th>date</th>\n",
       "      <th>open</th>\n",
       "      <th>high</th>\n",
       "      <th>low</th>\n",
       "      <th>close</th>\n",
       "      <th>volume</th>\n",
       "    </tr>\n",
       "    <tr>\n",
       "      <th>date</th>\n",
       "      <th></th>\n",
       "      <th></th>\n",
       "      <th></th>\n",
       "      <th></th>\n",
       "      <th></th>\n",
       "      <th></th>\n",
       "    </tr>\n",
       "  </thead>\n",
       "  <tbody>\n",
       "    <tr>\n",
       "      <td>2019-01-08</td>\n",
       "      <td>2019-01-08</td>\n",
       "      <td>24.90</td>\n",
       "      <td>25.16</td>\n",
       "      <td>24.63</td>\n",
       "      <td>24.79</td>\n",
       "      <td>6655691.0</td>\n",
       "    </tr>\n",
       "    <tr>\n",
       "      <td>2019-01-09</td>\n",
       "      <td>2019-01-09</td>\n",
       "      <td>25.00</td>\n",
       "      <td>25.33</td>\n",
       "      <td>24.70</td>\n",
       "      <td>24.76</td>\n",
       "      <td>6916817.0</td>\n",
       "    </tr>\n",
       "    <tr>\n",
       "      <td>2019-01-10</td>\n",
       "      <td>2019-01-10</td>\n",
       "      <td>24.66</td>\n",
       "      <td>24.99</td>\n",
       "      <td>24.16</td>\n",
       "      <td>24.74</td>\n",
       "      <td>6071960.0</td>\n",
       "    </tr>\n",
       "    <tr>\n",
       "      <td>2019-01-11</td>\n",
       "      <td>2019-01-11</td>\n",
       "      <td>24.77</td>\n",
       "      <td>25.00</td>\n",
       "      <td>24.43</td>\n",
       "      <td>24.70</td>\n",
       "      <td>4428992.0</td>\n",
       "    </tr>\n",
       "    <tr>\n",
       "      <td>2019-01-14</td>\n",
       "      <td>2019-01-14</td>\n",
       "      <td>24.79</td>\n",
       "      <td>24.80</td>\n",
       "      <td>24.30</td>\n",
       "      <td>24.46</td>\n",
       "      <td>5383955.0</td>\n",
       "    </tr>\n",
       "    <tr>\n",
       "      <td>...</td>\n",
       "      <td>...</td>\n",
       "      <td>...</td>\n",
       "      <td>...</td>\n",
       "      <td>...</td>\n",
       "      <td>...</td>\n",
       "      <td>...</td>\n",
       "    </tr>\n",
       "    <tr>\n",
       "      <td>2019-12-26</td>\n",
       "      <td>2019-12-26</td>\n",
       "      <td>28.46</td>\n",
       "      <td>28.59</td>\n",
       "      <td>28.15</td>\n",
       "      <td>28.45</td>\n",
       "      <td>9503417.0</td>\n",
       "    </tr>\n",
       "    <tr>\n",
       "      <td>2019-12-27</td>\n",
       "      <td>2019-12-27</td>\n",
       "      <td>28.51</td>\n",
       "      <td>29.05</td>\n",
       "      <td>28.49</td>\n",
       "      <td>28.70</td>\n",
       "      <td>15473345.0</td>\n",
       "    </tr>\n",
       "    <tr>\n",
       "      <td>2019-12-30</td>\n",
       "      <td>2019-12-30</td>\n",
       "      <td>28.66</td>\n",
       "      <td>29.04</td>\n",
       "      <td>28.21</td>\n",
       "      <td>28.96</td>\n",
       "      <td>16948056.0</td>\n",
       "    </tr>\n",
       "    <tr>\n",
       "      <td>2019-12-31</td>\n",
       "      <td>2019-12-31</td>\n",
       "      <td>29.03</td>\n",
       "      <td>29.35</td>\n",
       "      <td>28.82</td>\n",
       "      <td>29.03</td>\n",
       "      <td>16590470.0</td>\n",
       "    </tr>\n",
       "    <tr>\n",
       "      <td>2020-01-02</td>\n",
       "      <td>2020-01-02</td>\n",
       "      <td>29.36</td>\n",
       "      <td>30.30</td>\n",
       "      <td>29.22</td>\n",
       "      <td>30.27</td>\n",
       "      <td>28834410.0</td>\n",
       "    </tr>\n",
       "  </tbody>\n",
       "</table>\n",
       "<p>247 rows × 6 columns</p>\n",
       "</div>"
      ],
      "text/plain": [
       "                  date   open   high    low  close      volume\n",
       "date                                                          \n",
       "2019-01-08  2019-01-08  24.90  25.16  24.63  24.79   6655691.0\n",
       "2019-01-09  2019-01-09  25.00  25.33  24.70  24.76   6916817.0\n",
       "2019-01-10  2019-01-10  24.66  24.99  24.16  24.74   6071960.0\n",
       "2019-01-11  2019-01-11  24.77  25.00  24.43  24.70   4428992.0\n",
       "2019-01-14  2019-01-14  24.79  24.80  24.30  24.46   5383955.0\n",
       "...                ...    ...    ...    ...    ...         ...\n",
       "2019-12-26  2019-12-26  28.46  28.59  28.15  28.45   9503417.0\n",
       "2019-12-27  2019-12-27  28.51  29.05  28.49  28.70  15473345.0\n",
       "2019-12-30  2019-12-30  28.66  29.04  28.21  28.96  16948056.0\n",
       "2019-12-31  2019-12-31  29.03  29.35  28.82  29.03  16590470.0\n",
       "2020-01-02  2020-01-02  29.36  30.30  29.22  30.27  28834410.0\n",
       "\n",
       "[247 rows x 6 columns]"
      ]
     },
     "execution_count": 11,
     "metadata": {},
     "output_type": "execute_result"
    }
   ],
   "source": [
    "table[\"8\"].loc[:date]"
   ]
  },
  {
   "cell_type": "code",
   "execution_count": 12,
   "metadata": {},
   "outputs": [],
   "source": [
    "# 买入价为当天开盘价\n",
    "# 卖出价为次日开盘价\n",
    "\n",
    "M = 30000\n",
    "B = np.random.uniform(0, 0.003, 10)\n",
    "s = stocks(M, B, S, tt, date, 7)"
   ]
  },
  {
   "cell_type": "code",
   "execution_count": 13,
   "metadata": {},
   "outputs": [
    {
     "name": "stdout",
     "output_type": "stream",
     "text": [
      "1\n"
     ]
    },
    {
     "name": "stderr",
     "output_type": "stream",
     "text": [
      "/opt/anaconda3/lib/python3.7/site-packages/statsmodels/base/model.py:492: HessianInversionWarning: Inverting hessian failed, no bse or cov_params available\n",
      "  'available', HessianInversionWarning)\n",
      "/opt/anaconda3/lib/python3.7/site-packages/statsmodels/tsa/base/tsa_model.py:219: ValueWarning: A date index has been provided, but it has no associated frequency information and so will be ignored when e.g. forecasting.\n",
      "  ' ignored when e.g. forecasting.', ValueWarning)\n"
     ]
    },
    {
     "name": "stdout",
     "output_type": "stream",
     "text": [
      "2\n"
     ]
    },
    {
     "name": "stderr",
     "output_type": "stream",
     "text": [
      "/opt/anaconda3/lib/python3.7/site-packages/statsmodels/tsa/base/tsa_model.py:219: ValueWarning: A date index has been provided, but it has no associated frequency information and so will be ignored when e.g. forecasting.\n",
      "  ' ignored when e.g. forecasting.', ValueWarning)\n"
     ]
    },
    {
     "name": "stdout",
     "output_type": "stream",
     "text": [
      "3\n"
     ]
    },
    {
     "name": "stderr",
     "output_type": "stream",
     "text": [
      "/opt/anaconda3/lib/python3.7/site-packages/statsmodels/tsa/tsatools.py:668: RuntimeWarning: overflow encountered in exp\n",
      "  newparams = ((1-np.exp(-params))/(1+np.exp(-params))).copy()\n",
      "/opt/anaconda3/lib/python3.7/site-packages/statsmodels/tsa/tsatools.py:668: RuntimeWarning: invalid value encountered in true_divide\n",
      "  newparams = ((1-np.exp(-params))/(1+np.exp(-params))).copy()\n",
      "/opt/anaconda3/lib/python3.7/site-packages/statsmodels/tsa/tsatools.py:669: RuntimeWarning: overflow encountered in exp\n",
      "  tmp = ((1-np.exp(-params))/(1+np.exp(-params))).copy()\n",
      "/opt/anaconda3/lib/python3.7/site-packages/statsmodels/tsa/tsatools.py:669: RuntimeWarning: invalid value encountered in true_divide\n",
      "  tmp = ((1-np.exp(-params))/(1+np.exp(-params))).copy()\n",
      "/opt/anaconda3/lib/python3.7/site-packages/statsmodels/tsa/base/tsa_model.py:219: ValueWarning: A date index has been provided, but it has no associated frequency information and so will be ignored when e.g. forecasting.\n",
      "  ' ignored when e.g. forecasting.', ValueWarning)\n"
     ]
    },
    {
     "name": "stdout",
     "output_type": "stream",
     "text": [
      "4\n"
     ]
    },
    {
     "name": "stderr",
     "output_type": "stream",
     "text": [
      "/opt/anaconda3/lib/python3.7/site-packages/statsmodels/base/model.py:492: HessianInversionWarning: Inverting hessian failed, no bse or cov_params available\n",
      "  'available', HessianInversionWarning)\n",
      "/opt/anaconda3/lib/python3.7/site-packages/statsmodels/tsa/base/tsa_model.py:219: ValueWarning: A date index has been provided, but it has no associated frequency information and so will be ignored when e.g. forecasting.\n",
      "  ' ignored when e.g. forecasting.', ValueWarning)\n"
     ]
    },
    {
     "name": "stdout",
     "output_type": "stream",
     "text": [
      "5\n"
     ]
    },
    {
     "name": "stderr",
     "output_type": "stream",
     "text": [
      "/opt/anaconda3/lib/python3.7/site-packages/statsmodels/tsa/base/tsa_model.py:219: ValueWarning: A date index has been provided, but it has no associated frequency information and so will be ignored when e.g. forecasting.\n",
      "  ' ignored when e.g. forecasting.', ValueWarning)\n"
     ]
    },
    {
     "name": "stdout",
     "output_type": "stream",
     "text": [
      "6\n"
     ]
    },
    {
     "name": "stderr",
     "output_type": "stream",
     "text": [
      "/opt/anaconda3/lib/python3.7/site-packages/statsmodels/base/model.py:492: HessianInversionWarning: Inverting hessian failed, no bse or cov_params available\n",
      "  'available', HessianInversionWarning)\n",
      "/opt/anaconda3/lib/python3.7/site-packages/statsmodels/base/model.py:492: HessianInversionWarning: Inverting hessian failed, no bse or cov_params available\n",
      "  'available', HessianInversionWarning)\n",
      "/opt/anaconda3/lib/python3.7/site-packages/statsmodels/tsa/base/tsa_model.py:219: ValueWarning: A date index has been provided, but it has no associated frequency information and so will be ignored when e.g. forecasting.\n",
      "  ' ignored when e.g. forecasting.', ValueWarning)\n"
     ]
    },
    {
     "name": "stdout",
     "output_type": "stream",
     "text": [
      "7\n"
     ]
    },
    {
     "name": "stderr",
     "output_type": "stream",
     "text": [
      "/opt/anaconda3/lib/python3.7/site-packages/statsmodels/base/model.py:492: HessianInversionWarning: Inverting hessian failed, no bse or cov_params available\n",
      "  'available', HessianInversionWarning)\n",
      "/opt/anaconda3/lib/python3.7/site-packages/statsmodels/base/model.py:512: ConvergenceWarning: Maximum Likelihood optimization failed to converge. Check mle_retvals\n",
      "  \"Check mle_retvals\", ConvergenceWarning)\n",
      "/opt/anaconda3/lib/python3.7/site-packages/statsmodels/tsa/base/tsa_model.py:219: ValueWarning: A date index has been provided, but it has no associated frequency information and so will be ignored when e.g. forecasting.\n",
      "  ' ignored when e.g. forecasting.', ValueWarning)\n"
     ]
    },
    {
     "name": "stdout",
     "output_type": "stream",
     "text": [
      "8\n"
     ]
    },
    {
     "name": "stderr",
     "output_type": "stream",
     "text": [
      "/opt/anaconda3/lib/python3.7/site-packages/statsmodels/tsa/base/tsa_model.py:219: ValueWarning: A date index has been provided, but it has no associated frequency information and so will be ignored when e.g. forecasting.\n",
      "  ' ignored when e.g. forecasting.', ValueWarning)\n"
     ]
    },
    {
     "name": "stdout",
     "output_type": "stream",
     "text": [
      "9\n"
     ]
    },
    {
     "name": "stderr",
     "output_type": "stream",
     "text": [
      "/opt/anaconda3/lib/python3.7/site-packages/statsmodels/base/model.py:492: HessianInversionWarning: Inverting hessian failed, no bse or cov_params available\n",
      "  'available', HessianInversionWarning)\n",
      "/opt/anaconda3/lib/python3.7/site-packages/statsmodels/tsa/base/tsa_model.py:219: ValueWarning: A date index has been provided, but it has no associated frequency information and so will be ignored when e.g. forecasting.\n",
      "  ' ignored when e.g. forecasting.', ValueWarning)\n"
     ]
    },
    {
     "name": "stdout",
     "output_type": "stream",
     "text": [
      "10\n"
     ]
    },
    {
     "name": "stderr",
     "output_type": "stream",
     "text": [
      "/opt/anaconda3/lib/python3.7/site-packages/statsmodels/base/model.py:492: HessianInversionWarning: Inverting hessian failed, no bse or cov_params available\n",
      "  'available', HessianInversionWarning)\n",
      "/opt/anaconda3/lib/python3.7/site-packages/statsmodels/tsa/base/tsa_model.py:219: ValueWarning: A date index has been provided, but it has no associated frequency information and so will be ignored when e.g. forecasting.\n",
      "  ' ignored when e.g. forecasting.', ValueWarning)\n"
     ]
    }
   ],
   "source": [
    "s.find_P()\n"
   ]
  },
  {
   "cell_type": "code",
   "execution_count": 14,
   "metadata": {},
   "outputs": [
    {
     "name": "stdout",
     "output_type": "stream",
     "text": [
      "1.0877 2.4192\n",
      "-0.2247 3.7044\n",
      "0.2354 2.6092\n",
      "-2.0225 8.0392\n",
      "-0.1126 0.68\n"
     ]
    }
   ],
   "source": [
    "s.find_w()\n"
   ]
  },
  {
   "cell_type": "code",
   "execution_count": 15,
   "metadata": {},
   "outputs": [],
   "source": [
    "s.find_params()\n"
   ]
  },
  {
   "cell_type": "code",
   "execution_count": 16,
   "metadata": {},
   "outputs": [
    {
     "name": "stdout",
     "output_type": "stream",
     "text": [
      "您购买的股票为：[1, 3, 5, 6, 7]\n",
      "________________________________________________________\n",
      "您所持有的股票份额:\n",
      "股票: 2, 份额: [109.1495093874923], 金额: 6402.710220670298\n",
      "股票: 4, 份额: [70.58944352519777], 金额: 6353.049917267798\n",
      "股票: 6, 份额: [78.7015964198873], 金额: 5193.518347748362\n",
      "股票: 7, 份额: [24.24937893470248], 金额: 10984.968657420224\n",
      "股票: 8, 份额: [35.28366944644987], 金额: 1035.9285349477682\n",
      "总投入: [317.9735977137297]\n",
      "________________________________________________________\n",
      "预计每支收入:\n",
      "股票: 2, 收入: 12805.420441340597\n",
      "股票: 4, 收入: 25412.199669071193\n",
      "股票: 6, 收入: 31161.110086490175\n",
      "股票: 7, 收入: 76894.78060194157\n",
      "股票: 8, 收入: 8287.428279582145\n",
      "预计总收入: 154560.9390784257\n",
      "预计净收入: 154396.25358526682\n",
      "________________________________________________________\n"
     ]
    }
   ],
   "source": [
    "s.find_m()\n",
    "s.summary()"
   ]
  },
  {
   "cell_type": "markdown",
   "metadata": {},
   "source": [
    "## 真实"
   ]
  },
  {
   "cell_type": "code",
   "execution_count": 29,
   "metadata": {},
   "outputs": [],
   "source": [
    "date2 = \"2020-01-03\"\n",
    "date2 = pd.to_datetime(datetime.datetime.strptime(date2, \"%Y-%m-%d\"))\n",
    "S2 = []\n",
    "for i in range(1, 11):\n",
    "    S2.append(table[str(i)].loc[date2, ['open']])"
   ]
  },
  {
   "cell_type": "code",
   "execution_count": 30,
   "metadata": {},
   "outputs": [
    {
     "data": {
      "text/plain": [
       "[open    16.94\n",
       " Name: 2020-01-03 00:00:00, dtype: object, open    59.9\n",
       " Name: 2020-01-03 00:00:00, dtype: object, open    3.4\n",
       " Name: 2020-01-03 00:00:00, dtype: object, open    89.36\n",
       " Name: 2020-01-03 00:00:00, dtype: object, open    7.06\n",
       " Name: 2020-01-03 00:00:00, dtype: object, open    68.38\n",
       " Name: 2020-01-03 00:00:00, dtype: object, open    460\n",
       " Name: 2020-01-03 00:00:00, dtype: object, open    30.38\n",
       " Name: 2020-01-03 00:00:00, dtype: object, open    4.47\n",
       " Name: 2020-01-03 00:00:00, dtype: object, open    5.87\n",
       " Name: 2020-01-03 00:00:00, dtype: object]"
      ]
     },
     "execution_count": 30,
     "metadata": {},
     "output_type": "execute_result"
    }
   ],
   "source": [
    "S2"
   ]
  },
  {
   "cell_type": "code",
   "execution_count": 31,
   "metadata": {},
   "outputs": [],
   "source": [
    "m = [6402.710220670298,6353.049917267798,5193.518347748362, 10984.968657420224, 1035.9285349477682]"
   ]
  },
  {
   "cell_type": "code",
   "execution_count": 48,
   "metadata": {},
   "outputs": [
    {
     "name": "stdout",
     "output_type": "stream",
     "text": [
      "股价差价: [1.240000000000002] 金额: 6402.710220670298 获利: open    6538.06\n",
      "dtype: object\n",
      "股价差价: [-0.6400000000000006] 金额: 6353.049917267798 获利: open    6307.87\n",
      "dtype: object\n",
      "股价差价: [2.3900000000000006] 金额: 5193.518347748362 获利: open    5381.62\n",
      "dtype: object\n",
      "股价差价: [7.0] 金额: 10984.968657420224 获利: open    11154.7\n",
      "dtype: object\n",
      "股价差价: [1.0199999999999996] 金额: 1035.9285349477682 获利: open    1071.92\n",
      "dtype: object\n"
     ]
    }
   ],
   "source": [
    "index = [1, 3, 5, 6, 7]\n",
    "S_diff = np.array(S2) - np.array(S)\n",
    "M_diff = []\n",
    "for i in range(len(m)):\n",
    "    print('股价差价: {0} 金额: {1} 获利: {2}'.format(\n",
    "                                                             S_diff[index[i]], \n",
    "                                                             m[i], \n",
    "                                                             m[i]/S[index[i]]*S2[index[i]]))\n",
    "    M_diff.append(m[i]/S[index[i]] * S2[index[i]])"
   ]
  },
  {
   "cell_type": "code",
   "execution_count": 49,
   "metadata": {},
   "outputs": [
    {
     "data": {
      "text/plain": [
       "30454.175636660642"
      ]
     },
     "execution_count": 49,
     "metadata": {},
     "output_type": "execute_result"
    }
   ],
   "source": [
    "np.array(M_diff).sum()"
   ]
  },
  {
   "cell_type": "code",
   "execution_count": 50,
   "metadata": {},
   "outputs": [
    {
     "data": {
      "text/plain": [
       "454.17563666064234"
      ]
     },
     "execution_count": 50,
     "metadata": {},
     "output_type": "execute_result"
    }
   ],
   "source": [
    "np.array(M_diff).sum()-M"
   ]
  },
  {
   "cell_type": "code",
   "execution_count": null,
   "metadata": {},
   "outputs": [],
   "source": []
  }
 ],
 "metadata": {
  "kernelspec": {
   "display_name": "Python 3",
   "language": "python",
   "name": "python3"
  },
  "language_info": {
   "codemirror_mode": {
    "name": "ipython",
    "version": 3
   },
   "file_extension": ".py",
   "mimetype": "text/x-python",
   "name": "python",
   "nbconvert_exporter": "python",
   "pygments_lexer": "ipython3",
   "version": "3.7.4"
  }
 },
 "nbformat": 4,
 "nbformat_minor": 4
}
